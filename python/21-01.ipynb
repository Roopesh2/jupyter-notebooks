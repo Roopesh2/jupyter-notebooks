{
 "cells": [
  {
   "cell_type": "code",
   "execution_count": 5,
   "id": "e151c1cb",
   "metadata": {},
   "outputs": [],
   "source": [
    "set={1,2,3,'apple'}"
   ]
  },
  {
   "cell_type": "code",
   "execution_count": 6,
   "id": "938614ce",
   "metadata": {},
   "outputs": [
    {
     "name": "stdout",
     "output_type": "stream",
     "text": [
      "1\n",
      "2\n",
      "3\n",
      "apple\n"
     ]
    }
   ],
   "source": [
    "for item in set:\n",
    "    print(item)"
   ]
  },
  {
   "cell_type": "code",
   "execution_count": 15,
   "id": "a15c216c",
   "metadata": {},
   "outputs": [
    {
     "name": "stdout",
     "output_type": "stream",
     "text": [
      "{1, 2, 3, 4, 'orange', -2, -4, -3, -1}\n"
     ]
    }
   ],
   "source": [
    "pos={1,2,3,4,5}\n",
    "neg={-1,-2,-3,-4,5,'orange'}\n",
    "number=neg.symmetric_difference(pos)\n",
    "print(number)"
   ]
  },
  {
   "cell_type": "code",
   "execution_count": 17,
   "id": "2759a25c",
   "metadata": {},
   "outputs": [
    {
     "name": "stdout",
     "output_type": "stream",
     "text": [
      "{'name': 'meri', 'class': 's1', 'age': 19}\n"
     ]
    }
   ],
   "source": [
    "stud={'name':'meri','class':'s1','age':20}\n",
    "stud['age']=19\n",
    "print(stud)"
   ]
  },
  {
   "cell_type": "code",
   "execution_count": 18,
   "id": "03e9e8cc",
   "metadata": {},
   "outputs": [
    {
     "name": "stdout",
     "output_type": "stream",
     "text": [
      "3\n"
     ]
    }
   ],
   "source": [
    "print(len(stud))"
   ]
  },
  {
   "cell_type": "code",
   "execution_count": 20,
   "id": "b76a27d6",
   "metadata": {},
   "outputs": [],
   "source": [
    "l = stud.copy()"
   ]
  },
  {
   "cell_type": "code",
   "execution_count": 22,
   "id": "41355709",
   "metadata": {},
   "outputs": [],
   "source": [
    "l['h']=9"
   ]
  },
  {
   "cell_type": "code",
   "execution_count": 25,
   "id": "7f4b1530",
   "metadata": {},
   "outputs": [
    {
     "data": {
      "text/plain": [
       "{'name': 'meri', 'class': 's1', 'age': 19, 'h': 9}"
      ]
     },
     "execution_count": 25,
     "metadata": {},
     "output_type": "execute_result"
    }
   ],
   "source": [
    "l"
   ]
  }
 ],
 "metadata": {
  "kernelspec": {
   "display_name": "Python 3 (ipykernel)",
   "language": "python",
   "name": "python3"
  },
  "language_info": {
   "codemirror_mode": {
    "name": "ipython",
    "version": 3
   },
   "file_extension": ".py",
   "mimetype": "text/x-python",
   "name": "python",
   "nbconvert_exporter": "python",
   "pygments_lexer": "ipython3",
   "version": "3.12.8"
  }
 },
 "nbformat": 4,
 "nbformat_minor": 5
}
