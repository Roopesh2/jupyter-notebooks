{
 "cells": [
  {
   "cell_type": "code",
   "execution_count": 52,
   "id": "7fc03dd8",
   "metadata": {},
   "outputs": [],
   "source": [
    "a = [1,2,3,4,5,6,7]"
   ]
  },
  {
   "cell_type": "code",
   "execution_count": 68,
   "id": "16b40c0a",
   "metadata": {},
   "outputs": [],
   "source": [
    "b=[\"23223\",\"k\"]"
   ]
  },
  {
   "cell_type": "code",
   "execution_count": 63,
   "id": "b6c0d376",
   "metadata": {},
   "outputs": [],
   "source": [
    "# comprehension\n",
    "b = [num for num in a if num<6]"
   ]
  },
  {
   "cell_type": "code",
   "execution_count": 87,
   "id": "a560964d",
   "metadata": {},
   "outputs": [
    {
     "data": {
      "text/plain": [
       "[1, 3, 5]"
      ]
     },
     "execution_count": 87,
     "metadata": {},
     "output_type": "execute_result"
    }
   ],
   "source": [
    "a[::2]"
   ]
  },
  {
   "cell_type": "code",
   "execution_count": 13,
   "id": "5c202ad6",
   "metadata": {},
   "outputs": [
    {
     "data": {
      "text/plain": [
       "[9, 10, 11, 12, 13, 14, 15, 16, 17, 18, 19, 20, 21, 22]"
      ]
     },
     "execution_count": 13,
     "metadata": {},
     "output_type": "execute_result"
    }
   ],
   "source": [
    "list(range(9,23))"
   ]
  },
  {
   "cell_type": "code",
   "execution_count": 22,
   "id": "1de6cfd9",
   "metadata": {},
   "outputs": [
    {
     "name": "stdout",
     "output_type": "stream",
     "text": [
      "7\n"
     ]
    }
   ],
   "source": [
    "print(b)"
   ]
  },
  {
   "cell_type": "code",
   "execution_count": 18,
   "id": "b87fe387",
   "metadata": {
    "scrolled": false
   },
   "outputs": [
    {
     "name": "stdout",
     "output_type": "stream",
     "text": [
      "enter first numbers:12\n",
      "enter second numbers:10\n",
      "44.0\n"
     ]
    }
   ],
   "source": [
    "a = float(input(\"enter first numbers:\"))\n",
    "b = float(input(\"enter second numbers:\"))\n",
    "print(2*(a+b))"
   ]
  }
 ],
 "metadata": {
  "kernelspec": {
   "display_name": "Python 3 (ipykernel)",
   "language": "python",
   "name": "python3"
  },
  "language_info": {
   "codemirror_mode": {
    "name": "ipython",
    "version": 3
   },
   "file_extension": ".py",
   "mimetype": "text/x-python",
   "name": "python",
   "nbconvert_exporter": "python",
   "pygments_lexer": "ipython3",
   "version": "3.12.8"
  }
 },
 "nbformat": 4,
 "nbformat_minor": 5
}
