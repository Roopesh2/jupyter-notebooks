{
 "cells": [
  {
   "cell_type": "code",
   "execution_count": 1,
   "id": "52b144b2",
   "metadata": {},
   "outputs": [],
   "source": [
    "import math"
   ]
  },
  {
   "cell_type": "code",
   "execution_count": 6,
   "id": "97fa57d7",
   "metadata": {},
   "outputs": [
    {
     "name": "stdout",
     "output_type": "stream",
     "text": [
      "enter number-7\n",
      "absolute value of  -7 is 7\n"
     ]
    }
   ],
   "source": [
    "def absolutevalue(x):\n",
    "    if x<0:\n",
    "        return -x\n",
    "    else:\n",
    "        return x\n",
    "    \n",
    "num=int(input(\"enter number\"))\n",
    "a=absolutevalue(num)\n",
    "print(\"absolute value of \",num,\"is\",a)\n",
    "        \n"
   ]
  },
  {
   "cell_type": "code",
   "execution_count": 9,
   "id": "d9baf581",
   "metadata": {},
   "outputs": [
    {
     "name": "stdout",
     "output_type": "stream",
     "text": [
      "enter the start value:1\n",
      "enter the stop value:2\n"
     ]
    },
    {
     "data": {
      "text/plain": [
       "3"
      ]
     },
     "execution_count": 9,
     "metadata": {},
     "output_type": "execute_result"
    }
   ],
   "source": [
    "a=int(input(\"enter the start value:\"))\n",
    "b=int(input(\"enter the stop value:\"))\n",
    "def sum(a, b):\n",
    "    sum=0\n",
    "    for i in range(a,b+1):\n",
    "        sum=sum+i\n",
    "    return sum\n",
    "sum(a,b)"
   ]
  },
  {
   "cell_type": "code",
   "execution_count": 34,
   "id": "30be28b6",
   "metadata": {},
   "outputs": [
    {
     "name": "stdout",
     "output_type": "stream",
     "text": [
      "enter the value of n:2\n",
      "3\n"
     ]
    }
   ],
   "source": [
    "nth = int(input(\"enter the value of n:\"))\n",
    "\n",
    "def isPrime(n):\n",
    "    for i in range(2, u):\n",
    "        if n % i == 0: return False\n",
    "    return True\n",
    "\n",
    "\n",
    "i = 1\n",
    "counter = 0\n",
    "\n",
    "while(True):\n",
    "    i = i + 1\n",
    "    if (isPrime(i)):\n",
    "        counter += 1\n",
    "    if counter == nth:\n",
    "        print(i)\n",
    "        break"
   ]
  },
  {
   "cell_type": "code",
   "execution_count": null,
   "id": "551c4375",
   "metadata": {},
   "outputs": [],
   "source": [
    "a=int(input(\"enter a\"))\n",
    "b=int(input(\"enter b\"))\n",
    "c=int(input(\"enter c\"))\n",
    "D=b*b-4*a*c\n",
    "if D>=0:\n",
    "    print('real roots')\n",
    "    x1=-b+D**.5/(2*a)\n",
    "    x2=-b-D**.5/(2*a)\n",
    "if D<0:\n",
    "    print('imaginery root')\n",
    "    x1=-b+(-D)**.5/(2*a)\n",
    "    x2=-b-(-D)**.5/(2*a)\n",
    "    print(x)\n",
    "\n"
   ]
  },
  {
   "cell_type": "code",
   "execution_count": null,
   "id": "b963586f",
   "metadata": {},
   "outputs": [],
   "source": []
  }
 ],
 "metadata": {
  "kernelspec": {
   "display_name": "Python 3 (ipykernel)",
   "language": "python",
   "name": "python3"
  },
  "language_info": {
   "codemirror_mode": {
    "name": "ipython",
    "version": 3
   },
   "file_extension": ".py",
   "mimetype": "text/x-python",
   "name": "python",
   "nbconvert_exporter": "python",
   "pygments_lexer": "ipython3",
   "version": "3.13.1"
  }
 },
 "nbformat": 4,
 "nbformat_minor": 5
}
