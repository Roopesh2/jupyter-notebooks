{
 "cells": [
  {
   "cell_type": "code",
   "execution_count": 1,
   "id": "4ed0c41d",
   "metadata": {},
   "outputs": [
    {
     "name": "stdout",
     "output_type": "stream",
     "text": [
      "enter first no1\n",
      "enter second no2\n",
      "enter third no3\n",
      "3\n"
     ]
    }
   ],
   "source": [
    "a= int(input(\"enter first no\"))\n",
    "b= int(input(\"enter second no\"))\n",
    "c= int(input(\"enter third no\"))\n",
    "list= [a,b,c]\n",
    "list.sort()\n",
    "print(list[-1])\n"
   ]
  },
  {
   "cell_type": "code",
   "execution_count": 9,
   "id": "8e95e867",
   "metadata": {},
   "outputs": [
    {
     "name": "stdout",
     "output_type": "stream",
     "text": [
      "enter no4\n",
      "enter no3\n",
      "enter no7\n",
      "enter no8\n",
      "enter no2\n",
      "[8, 1.5, 3.5, 16, 4]\n"
     ]
    }
   ],
   "source": [
    "l = []\n",
    "for i in range(0,5):\n",
    "    l.append(int(input(\"enter no\")))\n",
    "\n",
    "for i in range(0,5):\n",
    "    l[i] = l[i]*2 if (l[i] % 2 == 0) else l[i]/2\n",
    "print(l)"
   ]
  },
  {
   "cell_type": "code",
   "execution_count": 10,
   "id": "c274817f",
   "metadata": {},
   "outputs": [],
   "source": [
    "l=[]\n",
    "l.append(4)"
   ]
  },
  {
   "cell_type": "code",
   "execution_count": 11,
   "id": "adaa722f",
   "metadata": {},
   "outputs": [
    {
     "data": {
      "text/plain": [
       "[4]"
      ]
     },
     "execution_count": 11,
     "metadata": {},
     "output_type": "execute_result"
    }
   ],
   "source": [
    "l\n"
   ]
  },
  {
   "cell_type": "code",
   "execution_count": 12,
   "id": "b9cb1d16",
   "metadata": {},
   "outputs": [
    {
     "data": {
      "text/plain": [
       "[4, 7]"
      ]
     },
     "execution_count": 12,
     "metadata": {},
     "output_type": "execute_result"
    }
   ],
   "source": [
    "l.append(7)\n",
    "l"
   ]
  },
  {
   "cell_type": "code",
   "execution_count": 41,
   "id": "cb0779c9",
   "metadata": {},
   "outputs": [],
   "source": [
    "l=[1,2,3,4,5]\n",
    "for i in range(0,3):\n",
    "    l = [0] + l\n",
    "    l[0]= l[-1]\n",
    "    l = l[:5]"
   ]
  },
  {
   "cell_type": "code",
   "execution_count": 43,
   "id": "47a6b64b",
   "metadata": {},
   "outputs": [
    {
     "data": {
      "text/plain": [
       "[3, 4, 5, 1, 2]"
      ]
     },
     "execution_count": 43,
     "metadata": {},
     "output_type": "execute_result"
    }
   ],
   "source": [
    "l"
   ]
  }
 ],
 "metadata": {
  "kernelspec": {
   "display_name": "Python 3 (ipykernel)",
   "language": "python",
   "name": "python3"
  },
  "language_info": {
   "codemirror_mode": {
    "name": "ipython",
    "version": 3
   },
   "file_extension": ".py",
   "mimetype": "text/x-python",
   "name": "python",
   "nbconvert_exporter": "python",
   "pygments_lexer": "ipython3",
   "version": "3.12.8"
  }
 },
 "nbformat": 4,
 "nbformat_minor": 5
}
