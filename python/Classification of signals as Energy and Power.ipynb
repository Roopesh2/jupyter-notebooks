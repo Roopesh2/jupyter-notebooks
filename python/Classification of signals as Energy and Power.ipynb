{
 "cells": [
  {
   "cell_type": "markdown",
   "id": "fb3f647f",
   "metadata": {},
   "source": [
    "The classification is performed by following:\n",
    "\n",
    " 1. The function's energy and power are computed with definite integral with bounds from  $0$ to $10^2$, $10^3$, $10^4$, ... : \n",
    "     $$\n",
    "     E_1 = \\int_0 ^ {10^2} f^2(x) dx \\\\\n",
    "     E_2 = \\int_0 ^ {10^3} f^2(x) dx \\\\\n",
    "     E_3 = \\int_0 ^ {10^4} f^2(x) dx \\\\\n",
    "     \\vdots\n",
    "     $$\n",
    "     \n",
    "     At the same time power is computed:\n",
    "     $$\n",
    "     P_1 = \\frac{1}{10^2}\\int_0 ^ {10^2} f^2(x) dx \\\\\n",
    "     P_2 = \\frac{1}{10^3}\\int_0 ^ {10^3} f^2(x) dx \\\\\n",
    "     P_3 = \\frac{1}{10^4}\\int_0 ^ {10^4} f^2(x) dx \\\\\n",
    "     \\vdots\n",
    "     $$\n",
    "     \n",
    "     In the program, integrals are evaluvated using Trapezoidal rule (https://en.wikipedia.org/wiki/Trapezoidal_rule#Uniform_grid). Also a separate evaluvator function is used in summation. The evaluvator checks for overflows and zero divisions:\n",
    "     \n",
    "     For energy:\n",
    "     $$e(x) = \n",
    "       \\begin{cases}\n",
    "        \\infty             &, \\text{if } f^2(x)dx \\text{ overflows } \\\\\n",
    "        \\infty             &, \\text{if } f(x) \\text{ involves zero division} \\\\\n",
    "        f(x) ^ 2 dx &, \\text{otherwise}\n",
    "       \\end{cases}\n",
    "     $$\n",
    "     \n",
    "     For power:\n",
    "     $$p(x) = \n",
    "       \\begin{cases}\n",
    "        \\infty             &, \\text{if } \\dfrac{f^2(x)dx}{duration}\\ \\text{ overflows or } \\\\\n",
    "        \\infty             &, \\text{if } f(x) \\text{ involves zero division} \\\\\n",
    "        \\dfrac{f^2(x)dx}{duration}&, \\text{otherwise}\n",
    "       \\end{cases}\n",
    "     $$\n",
    "     \n",
    "     Integration is done by:\n",
    "     $$\n",
    "     E = \\frac{e(start) + e(end)}{2} + \\sum_{start+dx} ^ {end-dx} e(x) \\\\\n",
    "     P = \\frac{p(start) + p(end)}{2} + \\sum_{start+dx} ^ {end-dx} p(x)\n",
    "     $$\n",
    " 2. Check if they tend to increase, ie $E_1 < E_2 < E_3 \\cdots$ .If they do so, Its not Energy signal (Hence find poewr)\n",
    " 4. Check if they tend to increase, ie $P_1 < P_2 < P_3 \\cdots$ .If they do so, Its not Power signal either.\n",
    " 5. Check for oscillatory behaviour\n",
    "    "
   ]
  },
  {
   "cell_type": "code",
   "execution_count": 22,
   "id": "eb41e9dc",
   "metadata": {},
   "outputs": [],
   "source": [
    "from math import sqrt, sin, e, inf\n",
    "def f1(x): return sin(x) * e**x\n",
    "def f2(x): return e**x\n",
    "def f3(x): return 1 if x >= 0 else 0\n",
    "def f4(x): return x\n",
    "def f5(x): return 1/x\n",
    "def f6(x): return sqrt(x)"
   ]
  },
  {
   "cell_type": "code",
   "execution_count": 19,
   "id": "036643c8",
   "metadata": {},
   "outputs": [],
   "source": [
    "# Computes energy and power\n",
    "def compute_E_P(f, start, end, dx=0.01):\n",
    "    duration  = end-start\n",
    "    energy_overflown = False\n",
    "    power_overflown = False\n",
    "    \n",
    "    # Evaluvators for energy and power. It also check overlfow and zero division\n",
    "    \n",
    "    def eval_energy(x):\n",
    "        k = 0\n",
    "        try:\n",
    "            k = f(x) ** 2 * dx\n",
    "        except OverflowError:\n",
    "            k = inf\n",
    "            energy_overflown = True\n",
    "        except ZeroDivisionError:\n",
    "            k = inf\n",
    "        return k\n",
    "    \n",
    "    def eval_power(x):\n",
    "        k = 0\n",
    "        try:\n",
    "            k = f(x) ** 2 * dx / duration\n",
    "        except OverflowError:\n",
    "            k = inf\n",
    "            power_overflown = True\n",
    "        except ZeroDivisionError:\n",
    "            k = inf\n",
    "        return k\n",
    "    \n",
    "    \n",
    "    # using trapezoidal rule to integerate\n",
    "    \n",
    "    # add initial parts\n",
    "    E = (eval_energy(start) + eval_energy(end)) / 2\n",
    "    P = (eval_power(start) + eval_power(end)) / 2\n",
    "        \n",
    "    if power_overflown:\n",
    "        # endpoints overflown, return infinity\n",
    "        return (E, P)\n",
    "    \n",
    "    x = start + dx\n",
    "    while (x < end):\n",
    "        # add energy and power separately\n",
    "        if not energy_overflown:\n",
    "            E += eval_energy(x)\n",
    "\n",
    "        # add power \n",
    "        P += eval_power(x)\n",
    "        if power_overflown: \n",
    "            return (E, P)\n",
    "            \n",
    "        x += dx\n",
    "    \n",
    "    return (E, P)"
   ]
  },
  {
   "cell_type": "code",
   "execution_count": 23,
   "id": "4b80fe6a",
   "metadata": {},
   "outputs": [
    {
     "data": {
      "text/plain": [
       "[(5000.000000000404, 50.00000000000403),\n",
       " (500009.99999968, 500.00999999967996),\n",
       " (50000000.00004408, 5000.000000004418),\n",
       " (5000000000.0, 49999.999999999985),\n",
       " (500000000000.0, 499999.99999999994),\n",
       " (50000000000000.0, 5000000.0)]"
      ]
     },
     "execution_count": 23,
     "metadata": {},
     "output_type": "execute_result"
    }
   ],
   "source": [
    "E = []\n",
    "samples = 10**5\n",
    "for i in range(2, 8):\n",
    "    E.append(compute_E_P(f6, 0, 10**i, 10**i/samples))\n",
    "E"
   ]
  }
 ],
 "metadata": {
  "kernelspec": {
   "display_name": "Python 3 (ipykernel)",
   "language": "python",
   "name": "python3"
  },
  "language_info": {
   "codemirror_mode": {
    "name": "ipython",
    "version": 3
   },
   "file_extension": ".py",
   "mimetype": "text/x-python",
   "name": "python",
   "nbconvert_exporter": "python",
   "pygments_lexer": "ipython3",
   "version": "3.13.1"
  }
 },
 "nbformat": 4,
 "nbformat_minor": 5
}
